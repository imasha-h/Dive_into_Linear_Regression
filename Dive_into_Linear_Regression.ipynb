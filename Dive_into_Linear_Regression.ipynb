{
 "cells": [
  {
   "cell_type": "markdown",
   "id": "passive-product",
   "metadata": {},
   "source": [
    "# Statistical Modelling\n"
   ]
  },
  {
   "cell_type": "markdown",
   "id": "sexual-albert",
   "metadata": {},
   "source": [
    "**Read and inspect the data**"
   ]
  },
  {
   "cell_type": "code",
   "execution_count": 40,
   "id": "cosmetic-display",
   "metadata": {},
   "outputs": [],
   "source": [
    "library(MASS)"
   ]
  },
  {
   "cell_type": "code",
   "execution_count": 41,
   "id": "chinese-organizer",
   "metadata": {},
   "outputs": [],
   "source": [
    "data = read.csv(\"A1_39 (1).csv\") #read data into a dataframe"
   ]
  },
  {
   "cell_type": "code",
   "execution_count": 42,
   "id": "usual-contents",
   "metadata": {},
   "outputs": [
    {
     "data": {
      "text/html": [
       "<table>\n",
       "<thead><tr><th scope=col>X</th><th scope=col>y</th><th scope=col>x</th></tr></thead>\n",
       "<tbody>\n",
       "\t<tr><td>1         </td><td> 0.7267614</td><td>2.852152  </td></tr>\n",
       "\t<tr><td>2         </td><td> 6.7738556</td><td>2.471646  </td></tr>\n",
       "\t<tr><td>3         </td><td> 2.6402363</td><td>3.132297  </td></tr>\n",
       "\t<tr><td>4         </td><td> 8.5795277</td><td>2.869284  </td></tr>\n",
       "\t<tr><td>5         </td><td> 8.4474879</td><td>3.787900  </td></tr>\n",
       "\t<tr><td>6         </td><td>20.4894539</td><td>9.257606  </td></tr>\n",
       "</tbody>\n",
       "</table>\n"
      ],
      "text/latex": [
       "\\begin{tabular}{r|lll}\n",
       " X & y & x\\\\\n",
       "\\hline\n",
       "\t 1          &  0.7267614 & 2.852152  \\\\\n",
       "\t 2          &  6.7738556 & 2.471646  \\\\\n",
       "\t 3          &  2.6402363 & 3.132297  \\\\\n",
       "\t 4          &  8.5795277 & 2.869284  \\\\\n",
       "\t 5          &  8.4474879 & 3.787900  \\\\\n",
       "\t 6          & 20.4894539 & 9.257606  \\\\\n",
       "\\end{tabular}\n"
      ],
      "text/markdown": [
       "\n",
       "| X | y | x |\n",
       "|---|---|---|\n",
       "| 1          |  0.7267614 | 2.852152   |\n",
       "| 2          |  6.7738556 | 2.471646   |\n",
       "| 3          |  2.6402363 | 3.132297   |\n",
       "| 4          |  8.5795277 | 2.869284   |\n",
       "| 5          |  8.4474879 | 3.787900   |\n",
       "| 6          | 20.4894539 | 9.257606   |\n",
       "\n"
      ],
      "text/plain": [
       "  X y          x       \n",
       "1 1  0.7267614 2.852152\n",
       "2 2  6.7738556 2.471646\n",
       "3 3  2.6402363 3.132297\n",
       "4 4  8.5795277 2.869284\n",
       "5 5  8.4474879 3.787900\n",
       "6 6 20.4894539 9.257606"
      ]
     },
     "metadata": {},
     "output_type": "display_data"
    }
   ],
   "source": [
    "head(data)"
   ]
  },
  {
   "cell_type": "code",
   "execution_count": 43,
   "id": "critical-appearance",
   "metadata": {},
   "outputs": [
    {
     "name": "stdout",
     "output_type": "stream",
     "text": [
      "'data.frame':\t104 obs. of  3 variables:\n",
      " $ X: int  1 2 3 4 5 6 7 8 9 10 ...\n",
      " $ y: num  0.727 6.774 2.64 8.58 8.447 ...\n",
      " $ x: num  2.85 2.47 3.13 2.87 3.79 ...\n"
     ]
    }
   ],
   "source": [
    "str(data)"
   ]
  },
  {
   "cell_type": "code",
   "execution_count": 45,
   "id": "periodic-israel",
   "metadata": {},
   "outputs": [],
   "source": [
    "y = data$y # response vector\n",
    "x = data$x   # predictor vector\n",
    "n = length(y) # the number of observations"
   ]
  },
  {
   "cell_type": "markdown",
   "id": "brutal-hindu",
   "metadata": {},
   "source": [
    "**A straight-line regression model**"
   ]
  },
  {
   "cell_type": "code",
   "execution_count": 46,
   "id": "least-standard",
   "metadata": {},
   "outputs": [
    {
     "data": {
      "image/png": "[encoded data removed]",
      "text/plain": [
       "Plot with title \"Straight-line model\""
      ]
     },
     "metadata": {},
     "output_type": "display_data"
    }
   ],
   "source": [
    "# set the display size to 25% x 25%\n",
    "options(repr.plot.width=2.5, repr.plot.height=2.5)\n",
    "# set display to 1x1 plot with margins (bottom,left,top,right)=(4,4,1,1)\n",
    "par(mfrow = c(1,1), mar=c(4,4,1,1))\n",
    "# plot y vs x\n",
    "plot(y~x, main=\"Straight-line model\") # adjust the main title\n",
    "\n",
    "\n",
    "\n"
   ]
  },
  {
   "cell_type": "markdown",
   "id": "cultural-london",
   "metadata": {},
   "source": [
    " **Regressions diagnostics function:**"
   ]
  },
  {
   "cell_type": "code",
   "execution_count": 47,
   "id": "alert-forestry",
   "metadata": {},
   "outputs": [],
   "source": [
    "\n",
    "regression_diagnostics <- function(y,x) {\n",
    "\n",
    "    # set the display size to 100% x 40%\n",
    "    options(repr.plot.width=10, repr.plot.height=4)\n",
    "    par(mfrow = c(2,4), mar=c(4,4,3,2))\n",
    "\n",
    "    model = lm(y~x)           # fit a straight-line model\n",
    "    haty  = fitted(model)     # get fitted values, hat-y\n",
    "    r     = rstandard(model)  # standardised residuals\n",
    "\n",
    "    # Regression model plot - \n",
    "    plot(y~x, main=\"Straight-line model\", font.main=1, cex.main=1.5) # adjust the main title\n",
    "    abline(model, col=2)                                             # add a fitted regression line\n",
    "\n",
    "    # Constance of variance: r vs x\n",
    "    plot(r~x, ylab=\"Std residuals\", \n",
    "         main=\"Std residuals vs x\", font.main=1, cex.main=1.5)\n",
    "    abline(h=0, lty=3, col=8)\n",
    "    # the next two lines add a trend-line to the plot - loess fit - locally estimated scatterplot smoothing\n",
    "    new.x = seq(min(x), max(x), length.out=20)\n",
    "    lines(new.x, predict(loess(r~x), newdata=data.frame(x=new.x)), col=2) # col=2 - red colour\n",
    "\n",
    "    # Constance of variance: r vs hat-y\n",
    "    plot(r~haty, xlab=\"Fitted values\", ylab=\"Std residuals\",\n",
    "         main=\"Std residuals vs Fitted\", font.main=1, cex.main=1.5)\n",
    "    abline(h=0, lty=3, col=8)\n",
    "    # the next two lines add a trend-line to the plot - loess fit - locally estimated scatterplot smoothing\n",
    "    new.haty = seq(min(haty),max(haty),length.out=20)\n",
    "    lines(new.haty, predict(loess(r~haty), newdata=data.frame(haty=new.haty)), col=2)\n",
    "\n",
    "    # histogram of r\n",
    "    hist(r, main=\"Std residuals\", font.main=1, cex.main=1.5)\n",
    "\n",
    "    # built-in statistical plots\n",
    "    plot(model)\n",
    "    \n",
    "}"
   ]
  },
  {
   "cell_type": "code",
   "execution_count": 48,
   "id": "liquid-tracy",
   "metadata": {
    "scrolled": true
   },
   "outputs": [
    {
     "data": {
      "image/png": "[encoded data removed]",
      "text/plain": [
       "Plot with title \"\""
      ]
     },
     "metadata": {},
     "output_type": "display_data"
    }
   ],
   "source": [
    "regression_diagnostics(y,x) "
   ]
  },
  {
   "cell_type": "markdown",
   "id": "enclosed-spiritual",
   "metadata": {},
   "source": [
    "The plots of standardised residuals indicate a clear deviation from normality assumptions,\n",
    "thus the data needs to be transformed. We can see a U-shaped distribution of standardised residuals, \n",
    "thus we try transforming  𝑥→𝑥2 .\n"
   ]
  },
  {
   "cell_type": "markdown",
   "id": "bigger-rescue",
   "metadata": {},
   "source": [
    "**Transformation and Regression Diagnostics**"
   ]
  },
  {
   "cell_type": "code",
   "execution_count": 49,
   "id": "second-dividend",
   "metadata": {
    "scrolled": true
   },
   "outputs": [
    {
     "data": {
      "image/png": "[encoded data removed]",
      "text/plain": [
       "Plot with title \"\""
      ]
     },
     "metadata": {},
     "output_type": "display_data"
    }
   ],
   "source": [
    "y2 = y\n",
    "x2 = x^2\n",
    "regression_diagnostics(y2,x2) "
   ]
  },
  {
   "cell_type": "code",
   "execution_count": 50,
   "id": "surgical-thing",
   "metadata": {},
   "outputs": [
    {
     "data": {
      "image/png": "[encoded data removed]",
      "text/plain": [
       "plot without title"
      ]
     },
     "metadata": {},
     "output_type": "display_data"
    },
    {
     "data": {
      "image/png": "[encoded data removed]",
      "text/plain": [
       "plot without title"
      ]
     },
     "metadata": {},
     "output_type": "display_data"
    },
    {
     "data": {
      "image/png": "[encoded data removed]",
      "text/plain": [
       "Plot with title \"\""
      ]
     },
     "metadata": {},
     "output_type": "display_data"
    }
   ],
   "source": [
    "#add constant for boxcox plots\n",
    " xb<-x2 +3\n",
    " yb<-y2 +3\n",
    "\n",
    "\n",
    "options(repr.plot.width=3, repr.plot.height=3)\n",
    "par(mfrow = c(1,1), mar=c(4,4,1,1))\n",
    "boxcox(yb~xb) # R tries lambda values from -2 to 2.\n",
    "\n",
    "\n",
    "options(repr.plot.width=3, repr.plot.height=3)\n",
    "par(mfrow = c(1,1), mar=c(4,4,1,1))\n",
    "boxcox(yb~xb, lambda=seq(0.6,1.2,0.1)) # we tell R to test lambda values from 0.5 to 1.5 with step 0.1\n",
    "\n",
    "# we zoom in lambda values close to 0.95\n",
    "# The critical lambda value is about 0.95 which is close to the true value\n",
    "# A 95% confidence interval is quite wide, from 0.76 to 1.15. \n",
    "# so keep as it is\n",
    "# The precision of the Box-Cox method depends on the range of x-values\n",
    "\n",
    "\n",
    "#don't need to transform\n",
    "# Box-Cox method tells us to transform y -> y^(0.95) \n",
    "# this is very close to the true transformation\n",
    "\n",
    "xb = xb -3\n",
    "yb = (yb^0.95)-3\n",
    "regression_diagnostics(yb,xb)\n",
    "#plots indicate transforming makes very little difference compared to previous transformations so have decided not to transform further"
   ]
  },
  {
   "cell_type": "markdown",
   "id": "offensive-papua",
   "metadata": {},
   "source": [
    "**Outliers,Leverages and Cooke's Distance**"
   ]
  },
  {
   "cell_type": "markdown",
   "id": "considered-vegetarian",
   "metadata": {},
   "source": [
    " Standardised residuals:\n",
    "$$\n",
    "r_i = \\frac{e_i}{\\sqrt{\\hat\\sigma^2(1-h_{ii})}} \\qquad \\hat\\sigma^2 = \\frac{1}{n-2}\\sum_{i=1}^n e_i^2 \\qquad e_i = y_i - \\hat y_i\n",
    "$$\n",
    "\n",
    " A popular rule to classify the $i$th point as an outlier is if $|r_i|>2$ for small- and moderate-size data sets  and if $|r_i|>4$ for large-size data sets.\n",
    "\n",
    "- Leverage of the $i$th case:\n",
    "$$\n",
    "h_{ii} = \\frac1n + \\frac{(x_i - \\bar x)^2}{s_{xx}} \n",
    "$$\n",
    "\n",
    " A popular rule to classify the $i$th point as a leverage point in a simple linear regression model is if\n",
    "<br>\n",
    "$$\n",
    "h_{ii} > 2 \\times \\text{average}(h_{ii}) = 2 \\times \\frac2n = \\frac4n\n",
    "$$\n",
    "<br> \n",
    "  A leverage point is a bad leverage point if it is also an outlier. Otherwise, it is a good leverage point.\n",
    "\n",
    "\n",
    "- Cook's distance:\n",
    "$$\n",
    "D_i = \\frac{r_i^2}{2}\\cdot \\frac{h_{ii}}{1-h_{ii}}\n",
    "$$"
   ]
  },
  {
   "cell_type": "code",
   "execution_count": 52,
   "id": "tested-syndication",
   "metadata": {},
   "outputs": [],
   "source": [
    "\n",
    "sxx = sum((x2-mean(x2))^2)                 \n",
    "sxy = sum( (x2-mean(x2))*(y2-mean(y2)) )\n",
    "hatBeta1 = sxy/sxx\n",
    "hatBeta0 = mean(y2) - hatBeta1*mean(x2)\n",
    "haty= hatBeta0 + hatBeta1 * x2    \n",
    "hatSigmaSq = sum((y2-haty)**2)/(n-2)\n",
    "ei=y2-haty\n",
    "Hatvalues=((1/n)+((x2-mean(x2))^2)/sxx)\n",
    "residuals = y - (hatBeta0 + hatBeta1*x)  # residuals\n",
    "r<-residuals/(sqrt(sum((residuals-(sum(residuals)/length(residuals)))^2)/length(residuals)))\n",
    "\n",
    "\n",
    "\n",
    "\n",
    "\n",
    "\n"
   ]
  },
  {
   "cell_type": "code",
   "execution_count": 53,
   "id": "equivalent-disease",
   "metadata": {},
   "outputs": [
    {
     "name": "stdout",
     "output_type": "stream",
     "text": [
      "There are 2 outliers \n",
      "Outlier cases are: 29 57  "
     ]
    }
   ],
   "source": [
    "# standardised residuals\n",
    "residuals = y2 - (hatBeta0 + hatBeta1*x2)  # residuals\n",
    "r<-residuals/(sqrt(sum((residuals-(sum(residuals)/length(residuals)))^2)/length(residuals)))\n",
    "Outliers = abs(r) > 3  # outliers is a logical vector (FALSE, FALSE, TRUE, ...) indicating outliers\n",
    "\n",
    "cat(\"There are\", sum(Outliers), \"outliers\", \"\\n\")\n",
    "cat(\"Outlier cases are:\", which(Outliers),collapse=\" \")"
   ]
  },
  {
   "cell_type": "code",
   "execution_count": 54,
   "id": "demonstrated-sound",
   "metadata": {},
   "outputs": [
    {
     "name": "stdout",
     "output_type": "stream",
     "text": [
      "There are 2 outliers \n",
      "Outlier cases are: 29 57  "
     ]
    }
   ],
   "source": [
    "#Verification of Outliers\n",
    "r1<-rstandard(lm(y2~x2)) #check whether r value matches using inbuilt functions\n",
    "Check_Outliers = abs(r1) > 3  # outliers is a logical vector (FALSE, FALSE, TRUE, ...) indicating outliers\n",
    "\n",
    "cat(\"There are\", sum(Check_Outliers), \"outliers\", \"\\n\")\n",
    "cat(\"Outlier cases are:\", which(Check_Outliers),collapse=\" \")"
   ]
  },
  {
   "cell_type": "code",
   "execution_count": 55,
   "id": "answering-musician",
   "metadata": {},
   "outputs": [
    {
     "name": "stdout",
     "output_type": "stream",
     "text": [
      "There are 5 leverages \n",
      "Leverage cases are: 38 53 57 93 104 "
     ]
    }
   ],
   "source": [
    "Hatvalues= ((1/n)+((x2-mean(x2))^2)/sxx)  # leverages\n",
    "\n",
    "Leverages = Hatvalues > (4/n)   # leverages is a logical vector (FALSE, FALSE, TRUE, ...) indicating leverage points\n",
    "\n",
    "cat(\"There are\", sum(Leverages), \"leverages\", \"\\n\")\n",
    "cat(\"Leverage cases are:\", which(Leverages),collapse=\"\")"
   ]
  },
  {
   "cell_type": "code",
   "execution_count": 56,
   "id": "arbitrary-tobacco",
   "metadata": {},
   "outputs": [
    {
     "name": "stdout",
     "output_type": "stream",
     "text": [
      "There are 5 leverages \n",
      "Leverage cases are: 38 53 57 93 104 "
     ]
    }
   ],
   "source": [
    "#Verification of Leverages\n",
    "h2 = hatvalues(lm(y2~x2))\n",
    "Check_Leverages = h2 > (4/n)   # leverages is a logical vector (FALSE, FALSE, TRUE, ...) indicating leverage points\n",
    "\n",
    "cat(\"There are\", sum(Check_Leverages), \"leverages\", \"\\n\")\n",
    "cat(\"Leverage cases are:\", which(Check_Leverages),collapse=\"\") "
   ]
  },
  {
   "cell_type": "code",
   "execution_count": 57,
   "id": "flexible-promotion",
   "metadata": {},
   "outputs": [
    {
     "name": "stdout",
     "output_type": "stream",
     "text": [
      "There are 1 bad leverages and 4 good leverages \n",
      "Bad leverage cases are: 57   \n",
      "Good leverage cases are: 38 53 93 104   \n"
     ]
    }
   ],
   "source": [
    "BadLeverages  = Outliers & Leverages    # bad leverage = outlier + leverage\n",
    "GoodLeverages = (!Outliers) & Leverages # good leverages = not-outlier + leverage\n",
    "\n",
    "cat(\"There are\", sum(BadLeverages), \"bad leverages and\", sum(GoodLeverages), \"good leverages \\n\")\n",
    "cat(\"Bad leverage cases are:\", which(BadLeverages),collapse=\" \", \"\\n\")\n",
    "cat(\"Good leverage cases are:\", which(GoodLeverages),collapse=\" \", \"\\n\")"
   ]
  },
  {
   "cell_type": "code",
   "execution_count": 58,
   "id": "killing-reserve",
   "metadata": {
    "scrolled": true
   },
   "outputs": [
    {
     "name": "stdout",
     "output_type": "stream",
     "text": [
      "There are 4 highly influential cases \n",
      "The influential cases are: 18 29 56 57  "
     ]
    }
   ],
   "source": [
    "D = r^2/2 * Hatvalues/(1-Hatvalues)         # Cook's distance\n",
    "CooksCutOff = D > 4/(n-2)\n",
    "#cooksd <- cooks.distance(lm(y ~ x)) #check if influential cases match with inbuilt functions\n",
    "#influential <- as.numeric(names(cooksd)[(cooksd > (4/(length(x)-2)))]) #check if influential cases match with inbuilt functions\n",
    "cat(\"There are\", sum(CooksCutOff), \"highly influential cases \\n\")\n",
    "cat(\"The influential cases are:\", which(CooksCutOff),collapse=\" \")"
   ]
  },
  {
   "cell_type": "code",
   "execution_count": 59,
   "id": "decimal-hello",
   "metadata": {},
   "outputs": [],
   "source": [
    "advanced_regression_diagnostics <- function(y, x, OutlierCutOff = 2, big = FALSE, lloc=\"bottomright\") {\n",
    "\n",
    "    # set the display size to 100% x 40%\n",
    "    if (big) \n",
    "    {\n",
    "        options(repr.plot.width=10, repr.plot.height=20)\n",
    "        par(mfrow = c(4,2), mar=c(4,4,3,2))  \n",
    "    } \n",
    "    else \n",
    "    {\n",
    "        options(repr.plot.width=10, repr.plot.height=4)\n",
    "        par(mfrow = c(2,4), mar=c(4,4,3,2))\n",
    "    }\n",
    "\n",
    "\n",
    "    model = lm(y~x)           # fit a straight-line model\n",
    "    haty  = fitted(model)     # get fitted values, hat-y\n",
    "    r     = rstandard(model)  # standardised residuals\n",
    "    h     = hatvalues(model)  # leverages\n",
    "    n     = length(y)         # number of cases\n",
    "    \n",
    "    Outliers  = abs(r) > 3 # outliers\n",
    "    Leverages = h > 4/n                # leverages\n",
    "    \n",
    "    D = r^2/2 * h/(1-h)        # Cook's distance\n",
    "    CooksCutOff = D > 4/(n-2)  # Cook's cut-off distance\n",
    "    \n",
    "    # colour coding of the spcial cases\n",
    "    # normal=1(black), outlier=2(red), leverage=2(green), outlier+leverage=4(blue)\n",
    "    cols = 1 + Outliers + 2*Leverages  \n",
    "    \n",
    "    # indicator for special cases\n",
    "    cases = Outliers | Leverages | CooksCutOff \n",
    "\n",
    "    # shape coding of CooksCutOff cases\n",
    "    shapes = 1 + CooksCutOff # 1=circe, 2=triangle                   \n",
    "    \n",
    "    # Regression model plot\n",
    "    plot(y~x, \n",
    "         main=\"Straight-line model\", font.main=1, cex.main=1.5,  # adjust the main title\n",
    "         col=cols, pch=shapes)                                   # adjust colouts and shapes\n",
    "    abline(model, col=2)                                         # add a fitted regression line\n",
    "    text(x[cases], y[cases], pos=4, labels=c(1:n)[cases])        # add numbers next to the special cases\n",
    "    \n",
    "    \n",
    "    # Add legend to the regression plot if big=TRUE\n",
    "    if (big)\n",
    "    {\n",
    "        legtext = c(\"Outliers\", \"Good Leverage\", \"Bad Leverage\", \"Cook's Cut Off\")\n",
    "        legend(lloc,    # position\n",
    "               legend=legtext,   # legend text\n",
    "               bty = \"n\",        # no border\n",
    "               y.intersp=0.25,   # vertical spacing between legend items\n",
    "               col=c(2,3,4,1),   # colours of the legend items\n",
    "               pch=c(1,1,1,2)    # shape of the legend items\n",
    "               )\n",
    "    }\n",
    "    \n",
    "    # Constance of variance: r vs x\n",
    "    plot(r~x, \n",
    "         ylab=\"Std residuals\", main=\"Std residuals vs x\", font.main=1, cex.main=1.5,\n",
    "         col=cols, pch=shapes)\n",
    "    abline(h=0, lty=3, col=8)\n",
    "    # the next two lines add a trend-line to the plot - loess fit - locally estimated scatterplot smoothing\n",
    "    new.x = seq(min(x), max(x), length.out=20)\n",
    "    lines(new.x, predict(loess(r~x), newdata=data.frame(x=new.x)), col=2) # col=2 - red colour\n",
    "    text(x[cases], r[cases], pos=4, labels=c(1:n)[cases]) \n",
    "\n",
    "    # Constance of variance: r vs hat-y\n",
    "    plot(r~haty, \n",
    "         xlab=\"Fitted values\", ylab=\"Std residuals\",\n",
    "         main=\"Std residuals vs Fitted\", font.main=1, cex.main=1.5,\n",
    "         col=cols, pch=shapes)\n",
    "    abline(h=0, lty=3, col=8)\n",
    "    # the next two lines add a trend-line to the plot - loess fit - locally estimated scatterplot smoothing\n",
    "    new.haty = seq(min(haty),max(haty),length.out=20)\n",
    "    lines(new.haty, predict(loess(r~haty), newdata=data.frame(haty=new.haty)), col=2)\n",
    "    text(haty[cases], r[cases], pos=4, labels=c(1:n)[cases]) \n",
    "\n",
    "    # histogram of r\n",
    "    hist(r, main=\"Std residuals\", font.main=1, cex.main=1.5)\n",
    "\n",
    "    # built-in statistical plots\n",
    "    plot(model, col=cols, pch=shapes)\n",
    "    \n",
    "}\n",
    "\n"
   ]
  },
  {
   "cell_type": "code",
   "execution_count": 60,
   "id": "imperial-august",
   "metadata": {},
   "outputs": [
    {
     "data": {
      "image/png": "[encoded data removed]",
      "text/plain": [
       "Plot with title \"\""
      ]
     },
     "metadata": {},
     "output_type": "display_data"
    }
   ],
   "source": [
    "advanced_regression_diagnostics(y2,x2,big=1)"
   ]
  },
  {
   "cell_type": "markdown",
   "id": "substantial-cambridge",
   "metadata": {},
   "source": [
    "The case $i=57$ is bad leverage, thus we can remove it."
   ]
  },
  {
   "cell_type": "code",
   "execution_count": 61,
   "id": "champion-costs",
   "metadata": {},
   "outputs": [
    {
     "data": {
      "text/html": [
       "103"
      ],
      "text/latex": [
       "103"
      ],
      "text/markdown": [
       "103"
      ],
      "text/plain": [
       "[1] 103"
      ]
     },
     "metadata": {},
     "output_type": "display_data"
    }
   ],
   "source": [
    "# remove bad leverage point\n",
    "y3 = y2[-57]\n",
    "x3 = x2[-57]\n",
    "n1 = length(y3)\n",
    "n1"
   ]
  },
  {
   "cell_type": "code",
   "execution_count": 62,
   "id": "certified-subscriber",
   "metadata": {},
   "outputs": [],
   "source": [
    "advanced_regression_diagnostics <- function(y, x, OutlierCutOff = 2, big = FALSE, lloc=\"bottomright\") {\n",
    "\n",
    "    # set the display size to 100% x 40%\n",
    "    if (big) \n",
    "    {\n",
    "        options(repr.plot.width=10, repr.plot.height=20)\n",
    "        par(mfrow = c(4,2), mar=c(4,4,3,2))  \n",
    "    } \n",
    "    else \n",
    "    {\n",
    "        options(repr.plot.width=10, repr.plot.height=4)\n",
    "        par(mfrow = c(2,4), mar=c(4,4,3,2))\n",
    "    }\n",
    "\n",
    "\n",
    "    model = lm(y~x)           # fit a straight-line model\n",
    "    haty  = fitted(model)     # get fitted values, hat-y\n",
    "    r     = rstandard(model)  # standardised residuals\n",
    "    h     = hatvalues(model)  # leverages\n",
    "    n     = length(y)         # number of cases\n",
    "    \n",
    "    Outliers  = abs(r) > 3 # outliers\n",
    "    Leverages = h > 4/n                # leverages\n",
    "    \n",
    "    D = r^2/2 * h/(1-h)        # Cook's distance\n",
    "    CooksCutOff = D > 4/(n-2)  # Cook's cut-off distance\n",
    "    \n",
    "    # colour coding of the spcial cases\n",
    "    # normal=1(black), outlier=2(red), leverage=2(green), outlier+leverage=4(blue)\n",
    "    cols = 1 + Outliers + 2*Leverages  \n",
    "    \n",
    "    # indicator for special cases\n",
    "    cases = Outliers | Leverages | CooksCutOff \n",
    "\n",
    "    # shape coding of CooksCutOff cases\n",
    "    shapes = 1 + CooksCutOff # 1=circe, 2=triangle                   \n",
    "    \n",
    "    # Regression model plot\n",
    "    plot(y~x, \n",
    "         main=\"Straight-line model\", font.main=1, cex.main=1.5,  # adjust the main title\n",
    "         col=cols, pch=shapes)                                   # adjust colouts and shapes\n",
    "    abline(model, col=2)                                         # add a fitted regression line\n",
    "    text(x[cases], y[cases], pos=4, labels=c(1:n)[cases])        # add numbers next to the special cases\n",
    "    \n",
    "    \n",
    "    # Add legend to the regression plot if big=TRUE\n",
    "    if (big)\n",
    "    {\n",
    "        legtext = c(\"Outliers\", \"Good Leverage\", \"Bad Leverage\", \"Cook's Cut Off\")\n",
    "        legend(lloc,    # position\n",
    "               legend=legtext,   # legend text\n",
    "               bty = \"n\",        # no border\n",
    "               y.intersp=0.25,   # vertical spacing between legend items\n",
    "               col=c(2,3,4,1),   # colours of the legend items\n",
    "               pch=c(1,1,1,2)    # shape of the legend items\n",
    "               )\n",
    "    }\n",
    "    \n",
    "    # Constance of variance: r vs x\n",
    "    plot(r~x, \n",
    "         ylab=\"Std residuals\", main=\"Std residuals vs x\", font.main=1, cex.main=1.5,\n",
    "         col=cols, pch=shapes)\n",
    "    abline(h=0, lty=3, col=8)\n",
    "    # the next two lines add a trend-line to the plot - loess fit - locally estimated scatterplot smoothing\n",
    "    new.x = seq(min(x), max(x), length.out=20)\n",
    "    lines(new.x, predict(loess(r~x), newdata=data.frame(x=new.x)), col=2) # col=2 - red colour\n",
    "    text(x[cases], r[cases], pos=4, labels=c(1:n)[cases]) \n",
    "\n",
    "    # Constance of variance: r vs hat-y\n",
    "    plot(r~haty, \n",
    "         xlab=\"Fitted values\", ylab=\"Std residuals\",\n",
    "         main=\"Std residuals vs Fitted\", font.main=1, cex.main=1.5,\n",
    "         col=cols, pch=shapes)\n",
    "    abline(h=0, lty=3, col=8)\n",
    "    # the next two lines add a trend-line to the plot - loess fit - locally estimated scatterplot smoothing\n",
    "    new.haty = seq(min(haty),max(haty),length.out=20)\n",
    "    lines(new.haty, predict(loess(r~haty), newdata=data.frame(haty=new.haty)), col=2)\n",
    "    text(haty[cases], r[cases], pos=4, labels=c(1:n)[cases]) \n",
    "\n",
    "    # histogram of r\n",
    "    hist(r, main=\"Std residuals\", font.main=1, cex.main=1.5)\n",
    "\n",
    "    # built-in statistical plots\n",
    "    plot(model, col=cols, pch=shapes)\n",
    "    \n",
    "}\n",
    "\n"
   ]
  },
  {
   "cell_type": "code",
   "execution_count": 63,
   "id": "characteristic-bridges",
   "metadata": {},
   "outputs": [
    {
     "data": {
      "image/png": "[encoded data removed]",
      "text/plain": [
       "Plot with title \"\""
      ]
     },
     "metadata": {},
     "output_type": "display_data"
    }
   ],
   "source": [
    "# \"big\" regression diagnostics \n",
    "advanced_regression_diagnostics(y3,x3)"
   ]
  },
  {
   "cell_type": "markdown",
   "id": "extra-today",
   "metadata": {},
   "source": [
    "The case $i=29$ is an outlier and has a high leverage, thus we can remove it as well."
   ]
  },
  {
   "cell_type": "code",
   "execution_count": 64,
   "id": "bulgarian-above",
   "metadata": {},
   "outputs": [
    {
     "data": {
      "text/html": [
       "102"
      ],
      "text/latex": [
       "102"
      ],
      "text/markdown": [
       "102"
      ],
      "text/plain": [
       "[1] 102"
      ]
     },
     "metadata": {},
     "output_type": "display_data"
    }
   ],
   "source": [
    "# remove case 29: an influential outlier\n",
    "y4 = y3[-29]\n",
    "x4 = x3[-29]\n",
    "n2 = length(y4)\n",
    "n2"
   ]
  },
  {
   "cell_type": "code",
   "execution_count": 65,
   "id": "patent-monday",
   "metadata": {},
   "outputs": [],
   "source": [
    "advanced_regression_diagnostics <- function(y, x, OutlierCutOff = 2, big = FALSE, lloc=\"bottomright\") {\n",
    "\n",
    "    # set the display size to 100% x 40%\n",
    "    if (big) \n",
    "    {\n",
    "        options(repr.plot.width=10, repr.plot.height=20)\n",
    "        par(mfrow = c(4,2), mar=c(4,4,3,2))  \n",
    "    } \n",
    "    else \n",
    "    {\n",
    "        options(repr.plot.width=10, repr.plot.height=4)\n",
    "        par(mfrow = c(2,4), mar=c(4,4,3,2))\n",
    "    }\n",
    "\n",
    "\n",
    "    model = lm(y~x)           # fit a straight-line model\n",
    "    haty  = fitted(model)     # get fitted values, hat-y\n",
    "    r     = rstandard(model)  # standardised residuals\n",
    "    h     = hatvalues(model)  # leverages\n",
    "    n     = length(y)         # number of cases\n",
    "    \n",
    "    Outliers  = abs(r) > 3 # outliers\n",
    "    Leverages = h > 4/n                # leverages\n",
    "    \n",
    "    D = r^2/2 * h/(1-h)        # Cook's distance\n",
    "    CooksCutOff = D > 4/(n-2)  # Cook's cut-off distance\n",
    "    \n",
    "    # colour coding of the spcial cases\n",
    "    # normal=1(black), outlier=2(red), leverage=2(green), outlier+leverage=4(blue)\n",
    "    cols = 1 + Outliers + 2*Leverages  \n",
    "    \n",
    "    # indicator for special cases\n",
    "    cases = Outliers | Leverages | CooksCutOff \n",
    "\n",
    "    # shape coding of CooksCutOff cases\n",
    "    shapes = 1 + CooksCutOff # 1=circe, 2=triangle                   \n",
    "    \n",
    "    # Regression model plot\n",
    "    plot(y~x, \n",
    "         main=\"Straight-line model\", font.main=1, cex.main=1.5,  # adjust the main title\n",
    "         col=cols, pch=shapes)                                   # adjust colouts and shapes\n",
    "    abline(model, col=2)                                         # add a fitted regression line\n",
    "    text(x[cases], y[cases], pos=4, labels=c(1:n)[cases])        # add numbers next to the special cases\n",
    "    \n",
    "    \n",
    "    # Add legend to the regression plot if big=TRUE\n",
    "    if (big)\n",
    "    {\n",
    "        legtext = c(\"Outliers\", \"Good Leverage\", \"Bad Leverage\", \"Cook's Cut Off\")\n",
    "        legend(lloc,    # position\n",
    "               legend=legtext,   # legend text\n",
    "               bty = \"n\",        # no border\n",
    "               y.intersp=0.25,   # vertical spacing between legend items\n",
    "               col=c(2,3,4,1),   # colours of the legend items\n",
    "               pch=c(1,1,1,2)    # shape of the legend items\n",
    "               )\n",
    "    }\n",
    "    \n",
    "    # Constance of variance: r vs x\n",
    "    plot(r~x, \n",
    "         ylab=\"Std residuals\", main=\"Std residuals vs x\", font.main=1, cex.main=1.5,\n",
    "         col=cols, pch=shapes)\n",
    "    abline(h=0, lty=3, col=8)\n",
    "    # the next two lines add a trend-line to the plot - loess fit - locally estimated scatterplot smoothing\n",
    "    new.x = seq(min(x), max(x), length.out=20)\n",
    "    lines(new.x, predict(loess(r~x), newdata=data.frame(x=new.x)), col=2) # col=2 - red colour\n",
    "    text(x[cases], r[cases], pos=4, labels=c(1:n)[cases]) \n",
    "\n",
    "    # Constance of variance: r vs hat-y\n",
    "    plot(r~haty, \n",
    "         xlab=\"Fitted values\", ylab=\"Std residuals\",\n",
    "         main=\"Std residuals vs Fitted\", font.main=1, cex.main=1.5,\n",
    "         col=cols, pch=shapes)\n",
    "    abline(h=0, lty=3, col=8)\n",
    "    # the next two lines add a trend-line to the plot - loess fit - locally estimated scatterplot smoothing\n",
    "    new.haty = seq(min(haty),max(haty),length.out=20)\n",
    "    lines(new.haty, predict(loess(r~haty), newdata=data.frame(haty=new.haty)), col=2)\n",
    "    text(haty[cases], r[cases], pos=4, labels=c(1:n)[cases]) \n",
    "\n",
    "    # histogram of r\n",
    "    hist(r, main=\"Std residuals\", font.main=1, cex.main=1.5)\n",
    "\n",
    "    # built-in statistical plots\n",
    "    plot(model, col=cols, pch=shapes)\n",
    "    \n",
    "}\n",
    "\n"
   ]
  },
  {
   "cell_type": "code",
   "execution_count": 66,
   "id": "fatal-honor",
   "metadata": {},
   "outputs": [
    {
     "data": {
      "image/png": "[encoded data removed]",
      "text/plain": [
       "Plot with title \"\""
      ]
     },
     "metadata": {},
     "output_type": "display_data"
    }
   ],
   "source": [
    "advanced_regression_diagnostics(y4,x4)"
   ]
  },
  {
   "cell_type": "markdown",
   "id": "continent-concern",
   "metadata": {},
   "source": [
    "Diganostics plots look better\n",
    "\n",
    "Standardised errors are normally distirbuted - there are no obvious patterns that could \"break\" normality\n",
    "\n",
    "Histogram is not much bell-shaped, but it is not too much asymetric, which is reasonable for small- and medium-sized data sets\n",
    "\n",
    "Normall Q-Q plot is close to a straight line, which is what we want to have.\n",
    "\n",
    "Scale-location does not show any particular patter that would indicate any issues with the model.\n",
    "\n",
    "This plot shows if residuals are spread equally along the ranges of predictors. \n",
    "\n",
    "This is how you can check the assumption of equal variance (homoscedasticity).\n",
    "\n",
    "We see a horizontal line with equally (randomly) spread points so this is good"
   ]
  },
  {
   "cell_type": "markdown",
   "id": "connected-newman",
   "metadata": {},
   "source": [
    "**Simple linear regression analysis**"
   ]
  },
  {
   "cell_type": "markdown",
   "id": "ancient-forth",
   "metadata": {},
   "source": [
    " Testing $95\\%$ confidence interval for the slope of the regression model using\n",
    "\n",
    "$$ \n",
    "{\\rm CI(\\beta_1)} = \\big[ \\hat\\beta_1 - t_{\\alpha/2,\\, n-2}\\cdot {\\rm se}(\\hat\\beta_1), \\hat\\beta_1 + t_{\\alpha/2,\\, n-2}\\cdot {\\rm se}(\\hat\\beta_1) \\big]\n",
    "$$\n",
    "where\n",
    "$$\n",
    "{\\rm se}(\\hat\\beta_1) = \\sqrt{\\hat\\sigma^2/s_{xx}} ,\\qquad \\hat\\sigma^2 = \\frac{1}{n-2}\\sum_{i=1}^n (y_i - \\hat y_i)^2.\n",
    "$$\n",
    "Use ``qt(1-0.05/2, n-2)`` to get the critical t-value, $t_{\\alpha/2,\\, n-2}$.\n",
    "\n"
   ]
  },
  {
   "cell_type": "code",
   "execution_count": 67,
   "id": "remarkable-newton",
   "metadata": {},
   "outputs": [
    {
     "data": {
      "text/html": [
       "'intercept = 2.85, slope = 0.23'"
      ],
      "text/latex": [
       "'intercept = 2.85, slope = 0.23'"
      ],
      "text/markdown": [
       "'intercept = 2.85, slope = 0.23'"
      ],
      "text/plain": [
       "[1] \"intercept = 2.85, slope = 0.23\""
      ]
     },
     "metadata": {},
     "output_type": "display_data"
    }
   ],
   "source": [
    "sxx = sum( (x4-mean(x4))^2 )\n",
    "sxy = sum( (x4-mean(x4))*(y4-mean(y4)) )\n",
    "n2<-length(x4)\n",
    "\n",
    "hatBeta1 = sxy/sxx                      # estimated slope\n",
    "hatBeta0 = mean(y4) - hatBeta1*mean(x4)   # estimated intercept\n",
    "\n",
    "sprintf(\"intercept = %.2f, slope = %.2f\", hatBeta0, hatBeta1)\n"
   ]
  },
  {
   "cell_type": "code",
   "execution_count": 68,
   "id": "convertible-prefix",
   "metadata": {},
   "outputs": [
    {
     "data": {
      "image/png": "[encoded data removed]",
      "text/plain": [
       "Plot with title \"x~y\""
      ]
     },
     "metadata": {},
     "output_type": "display_data"
    }
   ],
   "source": [
    "# scatter plot + regression line\n",
    "options(repr.plot.width=4, repr.plot.height=4) # sets plotting size\n",
    "plot(x4, y4, main=\"Scatter plot and regression line for x~y\", xlab=\"x\", ylab=\"y\", font.main=1)\n",
    "abline(a=hatBeta0, b=hatBeta1)"
   ]
  },
  {
   "cell_type": "code",
   "execution_count": 69,
   "id": "unexpected-american",
   "metadata": {},
   "outputs": [
    {
     "data": {
      "text/html": [
       "'A 95% CI for the slope is [0.21, 0.25]'"
      ],
      "text/latex": [
       "'A 95\\% CI for the slope is {[}0.21, 0.25{]}'"
      ],
      "text/markdown": [
       "'A 95% CI for the slope is [0.21, 0.25]'"
      ],
      "text/plain": [
       "[1] \"A 95% CI for the slope is [0.21, 0.25]\""
      ]
     },
     "metadata": {},
     "output_type": "display_data"
    }
   ],
   "source": [
    "haty       = hatBeta0 + hatBeta1 * x4    # find fitted values from the regression line\n",
    "hatSigmaSq = sum( (y4-haty)**2 ) / (n2-2)  # estimated variance hat-sigma-squared\n",
    "seBeta1    = sqrt( hatSigmaSq/sxx )      # estimated standard error of beta-1\n",
    "seBeta0    = sqrt( hatSigmaSq * (1/n + mean(x4)^2/sxx) ) # estimated standard error of beta-0\n",
    "tcrit      = qt(1-0.05/2, n2-2)           # critical t-value for 100% - 5%/2 = 97.5%\n",
    "CI1min      = hatBeta1 - tcrit*seBeta1     # intercept lower limit of CI\n",
    "CI1max      = hatBeta1 + tcrit*seBeta1     # intercept upper limit of CI\n",
    "CI0min      = hatBeta0 - tcrit*seBeta0     # slope lower limit of CI\n",
    "CI0max      = hatBeta0 + tcrit*seBeta0     # slope upper limit of CI\n",
    "\n",
    "sprintf(\"A 95%% CI for the slope is [%.2f, %.2f]\", CI1min, CI1max)"
   ]
  },
  {
   "cell_type": "markdown",
   "id": "thermal-architect",
   "metadata": {},
   "source": [
    " Assuming $\\alpha=5\\%$, test the null hypothesis $H_0 : \\beta_0 = 0$ against a two-sided alternative.\n",
    "Interpret your result. The test statistic is\n",
    "\n",
    "$$\n",
    "T = \\frac{\\hat\\beta_0 - \\beta^*_0}{{\\rm se}(\\hat\\beta_0)} \\sim t_{n-2}\n",
    "$$\n",
    "where\n",
    "$$\n",
    "{\\rm se}(\\hat\\beta_0) = \\sqrt{\\hat\\sigma^2(1/n + \\bar x^2 / s_{xx})}\n",
    "$$"
   ]
  },
  {
   "cell_type": "code",
   "execution_count": 70,
   "id": "associate-framework",
   "metadata": {},
   "outputs": [
    {
     "name": "stderr",
     "output_type": "stream",
     "text": [
      "Your code contains a unicode char which cannot be displayed in your\n",
      "current locale and R will silently convert it to an escaped form when the\n",
      "R kernel executes this code. This can lead to subtle errors if you use\n",
      "such chars to do comparisons. For more information, please see\n",
      "https://github.com/IRkernel/repr/wiki/Problems-with-unicode-on-windows"
     ]
    },
    {
     "data": {
      "text/html": [
       "'The calculated t-value for is 6.10. The critical t-value is 1.98'"
      ],
      "text/latex": [
       "'The calculated t-value for is 6.10. The critical t-value is 1.98'"
      ],
      "text/markdown": [
       "'The calculated t-value for is 6.10. The critical t-value is 1.98'"
      ],
      "text/plain": [
       "[1] \"The calculated t-value for is 6.10. The critical t-value is 1.98\""
      ]
     },
     "metadata": {},
     "output_type": "display_data"
    }
   ],
   "source": [
    "t0cal   = (hatBeta0 - 0) / seBeta0                 # calculated t-value for beta-0\n",
    "t1cal   = (hatBeta1 - 0) / seBeta1                     # calculated t-value for beta-1\n",
    "\n",
    "sprintf(\"The calculated t-value for is %.2f. The critical t-value is %.2f\", t0cal, tcrit)\n",
    "#Since  |𝑡𝑐𝑎𝑙|>𝑡𝑐𝑟𝑖𝑡 , we reject the null hypothesis."
   ]
  },
  {
   "cell_type": "markdown",
   "id": "single-sterling",
   "metadata": {},
   "source": [
    " Since $|t_{cal}|>t_{crit}$, we reject the null hypothesis"
   ]
  },
  {
   "cell_type": "markdown",
   "id": "fatty-meter",
   "metadata": {},
   "source": [
    " Compute the total sum of squares, $SS_T$, the regression sum of squares, $SS_R$, and the residual sum of squares, $SS_E$:\n",
    "\n",
    "$$\n",
    "SS_T = \\sum_{i=1}^n(y_i-\\bar y)^2 \\qquad\n",
    "SS_R = \\sum_{i=1}^n(\\hat y_i-\\bar y)^2 \\qquad\n",
    "SS_E = \\sum_{i=1}^n(y_i-\\hat y_i)^2\n",
    "$$\n",
    "\n",
    "where $\\hat y_i = \\hat\\beta_0 + \\hat\\beta_1 x_i$ are fitted values. Then verify the analysis of variance identity\n",
    "\n",
    "$$\n",
    "SS_T = SS_R + SS_E\n",
    "$$\n"
   ]
  },
  {
   "cell_type": "code",
   "execution_count": 71,
   "id": "intended-dictionary",
   "metadata": {},
   "outputs": [
    {
     "data": {
      "text/html": [
       "'SST = 7147.64, SSR = 6169.28, SSE = 978.36'"
      ],
      "text/latex": [
       "'SST = 7147.64, SSR = 6169.28, SSE = 978.36'"
      ],
      "text/markdown": [
       "'SST = 7147.64, SSR = 6169.28, SSE = 978.36'"
      ],
      "text/plain": [
       "[1] \"SST = 7147.64, SSR = 6169.28, SSE = 978.36\""
      ]
     },
     "metadata": {},
     "output_type": "display_data"
    }
   ],
   "source": [
    "SST = sum( (y4 - mean(y4))^2 )     # total sum of squares = syy\n",
    "SSR = sum( (haty - mean(y4))^2 )  # regression sum of squares\n",
    "SSE = sum( (y4 - haty)^2 )        # residual sum of squares\n",
    "\n",
    "sprintf(\"SST = %.2f, SSR = %.2f, SSE = %.2f\", SST, SSR, SSE)"
   ]
  },
  {
   "cell_type": "code",
   "execution_count": 72,
   "id": "likely-wrong",
   "metadata": {},
   "outputs": [
    {
     "data": {
      "text/html": [
       "-1.36424205265939e-12"
      ],
      "text/latex": [
       "-1.36424205265939e-12"
      ],
      "text/markdown": [
       "-1.36424205265939e-12"
      ],
      "text/plain": [
       "[1] -1.364242e-12"
      ]
     },
     "metadata": {},
     "output_type": "display_data"
    }
   ],
   "source": [
    "SST - SSR - SSE # verify the analysis of variance identity, SST = SSR + SSE"
   ]
  },
  {
   "cell_type": "code",
   "execution_count": 73,
   "id": "thermal-screening",
   "metadata": {},
   "outputs": [
    {
     "data": {
      "text/html": [
       "TRUE"
      ],
      "text/latex": [
       "TRUE"
      ],
      "text/markdown": [
       "TRUE"
      ],
      "text/plain": [
       "[1] TRUE"
      ]
     },
     "metadata": {},
     "output_type": "display_data"
    }
   ],
   "source": [
    "all.equal(SST, SSR + SSE)"
   ]
  },
  {
   "cell_type": "code",
   "execution_count": 74,
   "id": "cubic-feeding",
   "metadata": {},
   "outputs": [
    {
     "data": {
      "text/html": [
       "'MSR = 6169.28, MSE = 9.78, F-cal = 630.57, F-crit = 3.94'"
      ],
      "text/latex": [
       "'MSR = 6169.28, MSE = 9.78, F-cal = 630.57, F-crit = 3.94'"
      ],
      "text/markdown": [
       "'MSR = 6169.28, MSE = 9.78, F-cal = 630.57, F-crit = 3.94'"
      ],
      "text/plain": [
       "[1] \"MSR = 6169.28, MSE = 9.78, F-cal = 630.57, F-crit = 3.94\""
      ]
     },
     "metadata": {},
     "output_type": "display_data"
    }
   ],
   "source": [
    "MSR   = SSR / 1             # mean regression sum of squares\n",
    "MSE   = SSE / (n2-2)         # mean residual sum of squares\n",
    "Fcal  = MSR/MSE             # calculated variance ratio, i.e. calculated F-value\n",
    "Fcrit = qf(1-0.05, 1, n2-1)  # critical t-value\n",
    "\n",
    "sprintf(\"MSR = %.2f, MSE = %.2f, F-cal = %.2f, F-crit = %.2f\", MSR, MSE, Fcal, Fcrit)"
   ]
  },
  {
   "cell_type": "markdown",
   "id": "dated-province",
   "metadata": {},
   "source": [
    "Analysis of variance table\n",
    "\n",
    "| Source of Variation | d.o.f. | SS       | MS       | F     |\n",
    "|:--------------------|-------:|---------:|---------:|------:|\n",
    "| Regression          |   1    | 6169.28  | 6169.28  |630.57 |\n",
    "| Residual            |   100  | 978.36   |  9.78    |       |\n",
    "| Total               |   101  | 7147.64  |          |       |"
   ]
  },
  {
   "cell_type": "code",
   "execution_count": 75,
   "id": "binding-adventure",
   "metadata": {},
   "outputs": [
    {
     "data": {
      "text/html": [
       "<table>\n",
       "<thead><tr><th scope=col>Source.of.Variation</th><th scope=col>d.o.f.</th><th scope=col>SS</th><th scope=col>MS</th><th scope=col>F</th></tr></thead>\n",
       "<tbody>\n",
       "\t<tr><td>Regression </td><td>  1        </td><td>6169.2766  </td><td>6169.276567</td><td>630.5725   </td></tr>\n",
       "\t<tr><td>Residual   </td><td>100        </td><td> 978.3612  </td><td>   9.783612</td><td>      NA   </td></tr>\n",
       "\t<tr><td>Total      </td><td>101        </td><td>7147.6377  </td><td>         NA</td><td>      NA   </td></tr>\n",
       "</tbody>\n",
       "</table>\n"
      ],
      "text/latex": [
       "\\begin{tabular}{r|lllll}\n",
       " Source.of.Variation & d.o.f. & SS & MS & F\\\\\n",
       "\\hline\n",
       "\t Regression  &   1         & 6169.2766   & 6169.276567 & 630.5725   \\\\\n",
       "\t Residual    & 100         &  978.3612   &    9.783612 &       NA   \\\\\n",
       "\t Total       & 101         & 7147.6377   &          NA &       NA   \\\\\n",
       "\\end{tabular}\n"
      ],
      "text/markdown": [
       "\n",
       "| Source.of.Variation | d.o.f. | SS | MS | F |\n",
       "|---|---|---|---|---|\n",
       "| Regression  |   1         | 6169.2766   | 6169.276567 | 630.5725    |\n",
       "| Residual    | 100         |  978.3612   |    9.783612 |       NA    |\n",
       "| Total       | 101         | 7147.6377   |          NA |       NA    |\n",
       "\n"
      ],
      "text/plain": [
       "  Source.of.Variation d.o.f. SS        MS          F       \n",
       "1 Regression            1    6169.2766 6169.276567 630.5725\n",
       "2 Residual            100     978.3612    9.783612       NA\n",
       "3 Total               101    7147.6377          NA       NA"
      ]
     },
     "metadata": {},
     "output_type": "display_data"
    }
   ],
   "source": [
    "anova_df = data.frame(\"Source of Variation\" = c(\"Regression\",\"Residual\",\"Total\"),\n",
    "                      \"d.o.f.\" = c(1,100,101),\n",
    "                      SS = c(SSR,SSE,SST),\n",
    "                      MS = c(MSR,MSE,NA),\n",
    "                      F  = c(Fcal,NA,NA)\n",
    "                     )\n",
    "anova_df"
   ]
  },
  {
   "cell_type": "markdown",
   "id": "chemical-latvia",
   "metadata": {},
   "source": [
    "Since $F_{cal} > F_{crit}$, we concluce that regression is significant, i.e. we reject the null hypothesis $H_0 : \\beta_1 = 0$."
   ]
  },
  {
   "cell_type": "markdown",
   "id": "private-tackle",
   "metadata": {},
   "source": [
    " Compute the coefficient of determination\n",
    "$$\n",
    "R^2 = 1 - \\frac{SS_E}{SS_T}\n",
    "$$\n"
   ]
  },
  {
   "cell_type": "code",
   "execution_count": 76,
   "id": "tired-helmet",
   "metadata": {},
   "outputs": [
    {
     "data": {
      "text/html": [
       "'R-squared value: 0.8631 , Adjusted R-squared: 0.8618 , F-statistic: 630.6'"
      ],
      "text/latex": [
       "'R-squared value: 0.8631 , Adjusted R-squared: 0.8618 , F-statistic: 630.6'"
      ],
      "text/markdown": [
       "'R-squared value: 0.8631 , Adjusted R-squared: 0.8618 , F-statistic: 630.6'"
      ],
      "text/plain": [
       "[1] \"R-squared value: 0.8631 , Adjusted R-squared: 0.8618 , F-statistic: 630.6\""
      ]
     },
     "metadata": {},
     "output_type": "display_data"
    }
   ],
   "source": [
    "#R-squared value\n",
    "R2 = 1 - SSE/SST\n",
    "#Adjusted R value\n",
    "AR2 = 1-((1-R2)*(n2-1))/(n2-1-1)\n",
    "\n",
    "paste(\"R-squared value:\", round(R2,4), \", Adjusted R-squared:\", round(AR2,4),\", F-statistic:\", round(Fcal,1))"
   ]
  },
  {
   "cell_type": "code",
   "execution_count": 77,
   "id": "occupational-electron",
   "metadata": {},
   "outputs": [
    {
     "data": {
      "text/html": [
       "<table>\n",
       "<thead><tr><th></th><th scope=col>Estimate</th><th scope=col>Lower bound</th><th scope=col>Upper bound</th><th scope=col>Std. error</th><th scope=col>t-value</th><th scope=col>Null hypothesis</th></tr></thead>\n",
       "<tbody>\n",
       "\t<tr><th scope=row>Intercept</th><td>2.8497504  </td><td>1.9233054  </td><td>3.7761954  </td><td>0.466964866</td><td> 6.102708  </td><td>0          </td></tr>\n",
       "\t<tr><th scope=row>Slope</th><td>0.2275563  </td><td>0.2095776  </td><td>0.2455349  </td><td>0.009061943</td><td>25.111203  </td><td>1          </td></tr>\n",
       "</tbody>\n",
       "</table>\n"
      ],
      "text/latex": [
       "\\begin{tabular}{r|llllll}\n",
       "  & Estimate & Lower bound & Upper bound & Std. error & t-value & Null hypothesis\\\\\n",
       "\\hline\n",
       "\tIntercept & 2.8497504   & 1.9233054   & 3.7761954   & 0.466964866 &  6.102708   & 0          \\\\\n",
       "\tSlope & 0.2275563   & 0.2095776   & 0.2455349   & 0.009061943 & 25.111203   & 1          \\\\\n",
       "\\end{tabular}\n"
      ],
      "text/markdown": [
       "\n",
       "| <!--/--> | Estimate | Lower bound | Upper bound | Std. error | t-value | Null hypothesis |\n",
       "|---|---|---|---|---|---|---|\n",
       "| Intercept | 2.8497504   | 1.9233054   | 3.7761954   | 0.466964866 |  6.102708   | 0           |\n",
       "| Slope | 0.2275563   | 0.2095776   | 0.2455349   | 0.009061943 | 25.111203   | 1           |\n",
       "\n"
      ],
      "text/plain": [
       "          Estimate  Lower bound Upper bound Std. error  t-value  \n",
       "Intercept 2.8497504 1.9233054   3.7761954   0.466964866  6.102708\n",
       "Slope     0.2275563 0.2095776   0.2455349   0.009061943 25.111203\n",
       "          Null hypothesis\n",
       "Intercept 0              \n",
       "Slope     1              "
      ]
     },
     "metadata": {},
     "output_type": "display_data"
    },
    {
     "data": {
      "text/html": [
       "<table>\n",
       "<thead><tr><th></th><th scope=col>Estimate</th><th scope=col>Lower bound</th><th scope=col>Upper bound</th><th scope=col>Std. error</th><th scope=col>t-value</th><th scope=col>Null hypothesis</th></tr></thead>\n",
       "<tbody>\n",
       "\t<tr><th scope=row>Intercept</th><td>2.850 </td><td>1.923 </td><td>3.776 </td><td>0.467 </td><td> 6.103</td><td>0     </td></tr>\n",
       "\t<tr><th scope=row>Slope</th><td>0.228 </td><td>0.210 </td><td>0.246 </td><td>0.009 </td><td>25.111</td><td>1     </td></tr>\n",
       "</tbody>\n",
       "</table>\n"
      ],
      "text/latex": [
       "\\begin{tabular}{r|llllll}\n",
       "  & Estimate & Lower bound & Upper bound & Std. error & t-value & Null hypothesis\\\\\n",
       "\\hline\n",
       "\tIntercept & 2.850  & 1.923  & 3.776  & 0.467  &  6.103 & 0     \\\\\n",
       "\tSlope & 0.228  & 0.210  & 0.246  & 0.009  & 25.111 & 1     \\\\\n",
       "\\end{tabular}\n"
      ],
      "text/markdown": [
       "\n",
       "| <!--/--> | Estimate | Lower bound | Upper bound | Std. error | t-value | Null hypothesis |\n",
       "|---|---|---|---|---|---|---|\n",
       "| Intercept | 2.850  | 1.923  | 3.776  | 0.467  |  6.103 | 0      |\n",
       "| Slope | 0.228  | 0.210  | 0.246  | 0.009  | 25.111 | 1      |\n",
       "\n"
      ],
      "text/plain": [
       "          Estimate Lower bound Upper bound Std. error t-value Null hypothesis\n",
       "Intercept 2.850    1.923       3.776       0.467       6.103  0              \n",
       "Slope     0.228    0.210       0.246       0.009      25.111  1              "
      ]
     },
     "metadata": {},
     "output_type": "display_data"
    }
   ],
   "source": [
    "# replace numbers with your variables, e.g. hatBeta0, hatBeta1, Beta0.CImin, Beta0.CImax, etc...\n",
    "table.summary = data.frame(row.names=c(\"Intercept\",\"Slope\"),\n",
    "                           estimate=c(hatBeta0,hatBeta1), \n",
    "                           lwb=c(CI0min,CI1min),    \n",
    "                           upb=c(CI0max,CI1max),   \n",
    "                           error=c(seBeta0,seBeta1 ),   \n",
    "                           tcal=c(t0cal,t1cal), \n",
    "                           hypo=c(0,1)                    # 0=Reject, 1=Accept\n",
    ")\n",
    "\n",
    "# you need to rename columns \n",
    "names(table.summary) = c(\"Estimate\", \"Lower bound\", \"Upper bound\", \"Std. error\", \n",
    "                         \"t-value\",  \"Null hypothesis\") \n",
    "table.summary\n",
    "# round numerical values\n",
    "round(table.summary,3) \n",
    "\n",
    "#p value <0.005 there fore statistically signif reject null H,\n",
    "#The low F-value graph shows a case where the group means are close together (low variability) relative to the variability within each group. The high F-value graph shows a case where the variability of group means is large relative to the within group variability. In order to reject the null hypothesis that the group means are equal, we need a high F-value.\n",
    "#################################"
   ]
  },
  {
   "cell_type": "code",
   "execution_count": 78,
   "id": "emotional-minute",
   "metadata": {},
   "outputs": [
    {
     "data": {
      "text/html": [
       "'R-squared value: 0.8631 , Adjusted R-squared: 0.8618 , F-statistic: 630.6'"
      ],
      "text/latex": [
       "'R-squared value: 0.8631 , Adjusted R-squared: 0.8618 , F-statistic: 630.6'"
      ],
      "text/markdown": [
       "'R-squared value: 0.8631 , Adjusted R-squared: 0.8618 , F-statistic: 630.6'"
      ],
      "text/plain": [
       "[1] \"R-squared value: 0.8631 , Adjusted R-squared: 0.8618 , F-statistic: 630.6\""
      ]
     },
     "metadata": {},
     "output_type": "display_data"
    }
   ],
   "source": [
    "text <- paste(\"R-squared value:\", round(R2,4), \", Adjusted R-squared:\", round(AR2,4),\", F-statistic:\", round(Fcal,1))\n",
    "text"
   ]
  },
  {
   "cell_type": "markdown",
   "id": "roman-homework",
   "metadata": {},
   "source": [
    "**Verification of Results** "
   ]
  },
  {
   "cell_type": "code",
   "execution_count": 79,
   "id": "convinced-ethics",
   "metadata": {},
   "outputs": [
    {
     "data": {
      "text/plain": [
       "\n",
       "Call:\n",
       "lm(formula = y4 ~ x4)\n",
       "\n",
       "Residuals:\n",
       "    Min      1Q  Median      3Q     Max \n",
       "-9.7314 -2.1788 -0.3454  2.3209  6.4904 \n",
       "\n",
       "Coefficients:\n",
       "            Estimate Std. Error t value Pr(>|t|)    \n",
       "(Intercept) 2.849750   0.468936   6.077 2.24e-08 ***\n",
       "x4          0.227556   0.009062  25.111  < 2e-16 ***\n",
       "---\n",
       "Signif. codes:  0 '***' 0.001 '**' 0.01 '*' 0.05 '.' 0.1 ' ' 1\n",
       "\n",
       "Residual standard error: 3.128 on 100 degrees of freedom\n",
       "Multiple R-squared:  0.8631,\tAdjusted R-squared:  0.8618 \n",
       "F-statistic: 630.6 on 1 and 100 DF,  p-value: < 2.2e-16\n"
      ]
     },
     "metadata": {},
     "output_type": "display_data"
    },
    {
     "data": {
      "text/html": [
       "<table>\n",
       "<thead><tr><th></th><th scope=col>2.5 %</th><th scope=col>97.5 %</th></tr></thead>\n",
       "<tbody>\n",
       "\t<tr><th scope=row>(Intercept)</th><td>1.9193952</td><td>3.7801056</td></tr>\n",
       "\t<tr><th scope=row>x4</th><td>0.2095776</td><td>0.2455349</td></tr>\n",
       "</tbody>\n",
       "</table>\n"
      ],
      "text/latex": [
       "\\begin{tabular}{r|ll}\n",
       "  & 2.5 \\% & 97.5 \\%\\\\\n",
       "\\hline\n",
       "\t(Intercept) & 1.9193952 & 3.7801056\\\\\n",
       "\tx4 & 0.2095776 & 0.2455349\\\\\n",
       "\\end{tabular}\n"
      ],
      "text/markdown": [
       "\n",
       "| <!--/--> | 2.5 % | 97.5 % |\n",
       "|---|---|---|\n",
       "| (Intercept) | 1.9193952 | 3.7801056 |\n",
       "| x4 | 0.2095776 | 0.2455349 |\n",
       "\n"
      ],
      "text/plain": [
       "            2.5 %     97.5 %   \n",
       "(Intercept) 1.9193952 3.7801056\n",
       "x4          0.2095776 0.2455349"
      ]
     },
     "metadata": {},
     "output_type": "display_data"
    },
    {
     "data": {
      "text/plain": [
       "             Df Sum Sq Mean Sq F value Pr(>F)    \n",
       "y4            1 102832  102832   630.6 <2e-16 ***\n",
       "Residuals   100  16308     163                   \n",
       "---\n",
       "Signif. codes:  0 '***' 0.001 '**' 0.01 '*' 0.05 '.' 0.1 ' ' 1"
      ]
     },
     "metadata": {},
     "output_type": "display_data"
    }
   ],
   "source": [
    "#compare with in-built functions\n",
    "lm<-lm(y4 ~ x4)\n",
    "summary(lm)\n",
    "confint(lm)\n",
    "res.aov <- aov(x4 ~ y4)\n",
    "summary(res.aov)"
   ]
  },
  {
   "cell_type": "code",
   "execution_count": 80,
   "id": "popular-venture",
   "metadata": {},
   "outputs": [
    {
     "data": {
      "text/html": [
       "<ol>\n",
       "\t<li>'Linear Regression:y4~x4'</li>\n",
       "\t<li><table>\n",
       "<thead><tr><th></th><th scope=col>Estimate</th><th scope=col>Lower bound</th><th scope=col>Upper bound</th><th scope=col>Std. error</th><th scope=col>t-value</th><th scope=col>Null hypothesis</th></tr></thead>\n",
       "<tbody>\n",
       "\t<tr><th scope=row>Intercept</th><td>2.8497504  </td><td>1.9233054  </td><td>3.7761954  </td><td>0.466964866</td><td> 6.102708  </td><td>0          </td></tr>\n",
       "\t<tr><th scope=row>Slope</th><td>0.2275563  </td><td>0.2095776  </td><td>0.2455349  </td><td>0.009061943</td><td>25.111203  </td><td>1          </td></tr>\n",
       "</tbody>\n",
       "</table>\n",
       "</li>\n",
       "\t<li>'R-squared value: 0.8631 , Adjusted R-squared: 0.8618 , F-statistic: 630.6'</li>\n",
       "</ol>\n"
      ],
      "text/latex": [
       "\\begin{enumerate}\n",
       "\\item 'Linear Regression:y4\\textasciitilde{}x4'\n",
       "\\item \\begin{tabular}{r|llllll}\n",
       "  & Estimate & Lower bound & Upper bound & Std. error & t-value & Null hypothesis\\\\\n",
       "\\hline\n",
       "\tIntercept & 2.8497504   & 1.9233054   & 3.7761954   & 0.466964866 &  6.102708   & 0          \\\\\n",
       "\tSlope & 0.2275563   & 0.2095776   & 0.2455349   & 0.009061943 & 25.111203   & 1          \\\\\n",
       "\\end{tabular}\n",
       "\n",
       "\\item 'R-squared value: 0.8631 , Adjusted R-squared: 0.8618 , F-statistic: 630.6'\n",
       "\\end{enumerate}\n"
      ],
      "text/markdown": [
       "1. 'Linear Regression:y4~x4'\n",
       "2. \n",
       "| <!--/--> | Estimate | Lower bound | Upper bound | Std. error | t-value | Null hypothesis |\n",
       "|---|---|---|---|---|---|---|\n",
       "| Intercept | 2.8497504   | 1.9233054   | 3.7761954   | 0.466964866 |  6.102708   | 0           |\n",
       "| Slope | 0.2275563   | 0.2095776   | 0.2455349   | 0.009061943 | 25.111203   | 1           |\n",
       "\n",
       "\n",
       "3. 'R-squared value: 0.8631 , Adjusted R-squared: 0.8618 , F-statistic: 630.6'\n",
       "\n",
       "\n"
      ],
      "text/plain": [
       "[[1]]\n",
       "[1] \"Linear Regression:y4~x4\"\n",
       "\n",
       "[[2]]\n",
       "           Estimate Lower bound Upper bound  Std. error   t-value\n",
       "Intercept 2.8497504   1.9233054   3.7761954 0.466964866  6.102708\n",
       "Slope     0.2275563   0.2095776   0.2455349 0.009061943 25.111203\n",
       "          Null hypothesis\n",
       "Intercept               0\n",
       "Slope                   1\n",
       "\n",
       "[[3]]\n",
       "[1] \"R-squared value: 0.8631 , Adjusted R-squared: 0.8618 , F-statistic: 630.6\"\n"
      ]
     },
     "metadata": {},
     "output_type": "display_data"
    }
   ],
   "source": [
    "# round numerical values\n",
    "title <- paste(\"Linear Regression:y4~x4\")\n",
    "table <- round(table.summary,3)\n",
    "table <- list()\n",
    "table[[1]] <- title\n",
    "table[[2]] <- table.summary\n",
    "table[[3]] <- text\n",
    "table\n",
    "\n"
   ]
  },
  {
   "cell_type": "markdown",
   "id": "framed-creativity",
   "metadata": {},
   "source": [
    "**Conclusion**"
   ]
  },
  {
   "cell_type": "markdown",
   "id": "determined-accreditation",
   "metadata": {},
   "source": [
    "R^2\t=\tcoefficient of determination. R2 is 0.86, which is very high, this means the model explains 86% of the variation in the response variable around the mean.  \n",
    "\n",
    "\n",
    "\n",
    "The low F-value graph shows a case where the means of the two groups are close together (low variability) relative to the variability within each group. \n",
    "The high F-value graph shows a case where the means of the two groups show higher variability relative to each other. In this case there is a high F-value, therefore, we reject null hypothesis.\n",
    "\n",
    "\n",
    "Standard error show absolute measure of the typical distance that the data points fall from the regression line. The standard error for the slope is very low which indicates less spread and therefore more true representations of population mean.\n",
    "\n",
    "\n",
    "Approximately 95% of the observations fall within 2 X 0.0091 of the regression from the regression line,and within 2 x 0.47 of the intercept\n",
    "\n",
    "\n",
    "T-value for intercept and slope are high. The greater the magnitude of T-value, the greater the evidence against the null hypothesis, therefore we can reject null hypothesis\n",
    "\n",
    "\n",
    "P value is <0.005 and therefore is highly statistically significant so we can reject null hypothesis. \n",
    "\n"
   ]
  }
 ],
 "metadata": {
  "kernelspec": {
   "display_name": "Python 3",
   "language": "python",
   "name": "python3"
  },
  "language_info": {
   "codemirror_mode": {
    "name": "ipython",
    "version": 3
   },
   "file_extension": ".py",
   "mimetype": "text/x-python",
   "name": "python",
   "nbconvert_exporter": "python",
   "pygments_lexer": "ipython3",
   "version": "3.7.10"
  }
 },
 "nbformat": 4,
 "nbformat_minor": 5
}
